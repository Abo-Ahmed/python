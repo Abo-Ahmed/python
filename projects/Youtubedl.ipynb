{
  "nbformat": 4,
  "nbformat_minor": 0,
  "metadata": {
    "colab": {
      "name": "Youtubedl.ipynb",
      "provenance": [],
      "collapsed_sections": []
    },
    "kernelspec": {
      "name": "python3",
      "display_name": "Python 3"
    }
  },
  "cells": [
    {
      "cell_type": "markdown",
      "metadata": {
        "id": "BVMHo66n841i"
      },
      "source": [
        "#Follow DOCS Not Assholes"
      ]
    },
    {
      "cell_type": "markdown",
      "metadata": {
        "id": "l1xZ3YTCc3hN"
      },
      "source": [
        "# Google Drive Login"
      ]
    },
    {
      "cell_type": "code",
      "metadata": {
        "id": "Uo_Bd1WwFFOP",
        "colab": {
          "base_uri": "https://localhost:8080/"
        },
        "cellView": "form",
        "outputId": "0b03d580-e42e-4104-fdf2-0e922be58e07"
      },
      "source": [
        "#@markdown <br><center><img src='https://upload.wikimedia.org/wikipedia/commons/thumb/d/da/Google_Drive_logo.png/600px-Google_Drive_logo.png' height=\"50\" alt=\"Gdrive-logo\"/></center>\n",
        "#@markdown <center><h3>Mount Gdrive to /content/drive</h3></center><br>\n",
        "MODE = \"MOUNT\" #@param [\"MOUNT\", \"UNMOUNT\"]\n",
        "#Mount your Gdrive! \n",
        "from google.colab import drive\n",
        "drive.mount._DEBUG = False\n",
        "if MODE == \"MOUNT\":\n",
        "  drive.mount('/content/drive', force_remount=True)\n",
        "elif MODE == \"UNMOUNT\":\n",
        "  try:\n",
        "    drive.flush_and_unmount()\n",
        "  except ValueError:\n",
        "    pass\n",
        "  get_ipython().system_raw(\"rm -rf /root/.config/Google/DriveFS\")"
      ],
      "execution_count": 1,
      "outputs": [
        {
          "output_type": "stream",
          "text": [
            "Mounted at /content/drive\n"
          ],
          "name": "stdout"
        }
      ]
    },
    {
      "cell_type": "markdown",
      "metadata": {
        "id": "BsN0qvw8dD8k"
      },
      "source": [
        "# Install Ytdl"
      ]
    },
    {
      "cell_type": "markdown",
      "metadata": {
        "id": "aFZeF9akdQ4-"
      },
      "source": [
        "# change Your directory where You want to Download Your Playlist"
      ]
    },
    {
      "cell_type": "code",
      "metadata": {
        "id": "-p-0zQEdoKq4",
        "colab": {
          "base_uri": "https://localhost:8080/"
        },
        "outputId": "98c4a83c-176f-4668-b31c-38eb2d9ab58d"
      },
      "source": [
        "cd /content/drive/MyDrive/youtube"
      ],
      "execution_count": 2,
      "outputs": [
        {
          "output_type": "stream",
          "text": [
            "/content/drive/MyDrive/youtube\n"
          ],
          "name": "stdout"
        }
      ]
    },
    {
      "cell_type": "markdown",
      "metadata": {
        "id": "LDB0ICEpbi7Y"
      },
      "source": [
        "# Download Youtube PlayList\n"
      ]
    },
    {
      "cell_type": "markdown",
      "metadata": {
        "id": "pXAi4Yl-br-4"
      },
      "source": [
        "\n",
        "\n",
        "*   ID of Your Playlist From above example - **PLjwBf9QEIO979QpN8DZ_Q_E942KA_w27Q**\n",
        "\n",
        "\n",
        "\n",
        "\n",
        "---\n",
        "\n",
        "\n",
        "> For 480p Command Like this-\n",
        "***!youtube-dl -f 'bestvideo[height<=480]+bestaudio/best[height<=480]' -i \"yt playlist link or id\"***\n",
        "\n",
        "For quality Change Go to [YTDl Repo](https://github.com/ytdl-org/youtube-dl#format-selection) Format section\n",
        "\n",
        "\n"
      ]
    },
    {
      "cell_type": "code",
      "metadata": {
        "id": "fPOx3RUhPY7x"
      },
      "source": [
        "#@markdown <h3><b>←</b> Click Here to use youtube-dl</h3>\n",
        "\n",
        "import os, uuid, urllib.parse\n",
        "import ipywidgets as widgets\n",
        "Archive = False\n",
        "\n",
        "from glob import glob\n",
        "from urllib.parse import urlparse, parse_qs\n",
        "from IPython.display import HTML, clear_output, YouTubeVideo\n",
        "from IPython.utils.io import ask_yes_no\n",
        "from google.colab import output, files\n",
        "\n",
        "Links = widgets.Textarea(placeholder='''Video/Playlist Link\n",
        "(one link per line)''')\n",
        "\n",
        "VideoQ = widgets.Dropdown(options=[\"Best Quality (VP9 upto 4K)\", \"Best Compatibility (H.264 upto 1080p)\"])\n",
        "\n",
        "AudioQ = widgets.Dropdown(options=[\"Best Quality (Opus)\", \"Best Compatibility (M4A)\"])\n",
        "\n",
        "Subtitle = widgets.ToggleButton(value=True, description=\"Subtitle\", button_style=\"info\", tooltip=\"Subtitle\")\n",
        "\n",
        "SavePathYT = widgets.Dropdown(options=[\"/content\", \"/content/Downloads\"])\n",
        "\n",
        "AudioOnly = widgets.ToggleButton(value=False, description=\"Audio Only\", button_style=\"\", tooltip=\"Audio Only\")\n",
        "\n",
        "Resolution = widgets.Select(options=[\"Highest\", \"4K\", \"1440p\", \"1080p\", \"720p\", \"480p\", \"360p\", \"240p\", \"144p\"], value=\"Highest\")\n",
        "\n",
        "Extension = widgets.Select(options=[\"mkv\", \"webm\"], value=\"mkv\")\n",
        "\n",
        "UsernameYT = widgets.Text(placeholder=\"Username\")\n",
        "\n",
        "PasswordYT = widgets.Text(placeholder=\"Password\")\n",
        "\n",
        "SecAuth = widgets.Text(placeholder=\"2nd Factor Authentication\")\n",
        "\n",
        "VideoPW = widgets.Text(placeholder=\"Video Password\")\n",
        "\n",
        "GEOBypass = widgets.Dropdown(options=[\"Disable\", \"Hide\", \"AD\", \"AE\", \"AF\", \"AG\", \"AI\", \"AL\", \"AM\", \"AO\", \"AQ\", \"AR\", \"AS\", \"AT\", \"AU\", \"AW\", \"AX\", \"AZ\", \"BA\", \"BB\", \"BD\", \"BE\", \"BF\", \"BG\", \"BH\", \"BI\", \"BJ\", \"BL\", \"BM\", \"BN\", \"BO\", \"BQ\", \"BR\", \"BS\", \"BT\", \"BV\", \"BW\", \"BY\", \"BZ\", \"CA\", \"CC\", \"CD\", \"CF\", \"CG\", \"CH\", \"CI\", \"CK\", \"CL\", \"CM\", \"CN\", \"CO\", \"CR\", \"CU\", \"CV\", \"CW\", \"CX\", \"CY\", \"CZ\", \"DE\", \"DJ\", \"DK\", \"DM\", \"DO\", \"DZ\", \"EC\", \"EE\", \"EG\", \"EH\", \"ER\", \"ES\", \"ET\", \"FI\", \"FJ\", \"FK\", \"FM\", \"FO\", \"FR\", \"GA\", \"GB\", \"GD\", \"GE\", \"GF\", \"GG\", \"GH\", \"GI\", \"GL\", \"GM\", \"GN\", \"GP\", \"GQ\", \"GR\", \"GS\", \"GT\", \"GU\", \"GW\", \"GY\", \"HK\", \"HM\", \"HN\", \"HR\", \"HT\", \"HU\", \"ID\", \"IE\", \"IL\", \"IM\", \"IN\", \"IO\", \"IQ\", \"IR\", \"IS\", \"IT\", \"JE\", \"JM\", \"JO\", \"JP\", \"KE\", \"KG\", \"KH\", \"KI\", \"KM\", \"KN\", \"KP\", \"KR\", \"KW\", \"KY\", \"KZ\", \"LA\", \"LB\", \"LC\", \"LI\", \"LK\", \"LR\", \"LS\", \"LT\", \"LU\", \"LV\", \"LY\", \"MA\", \"MC\", \"MD\", \"ME\", \"MF\", \"MG\", \"MH\", \"MK\", \"ML\", \"MM\", \"MN\", \"MO\", \"MP\", \"MQ\", \"MR\", \"MS\", \"MT\", \"MU\", \"MV\", \"MW\", \"MX\", \"MY\", \"MZ\", \"NA\", \"NC\", \"NE\", \"NF\", \"NG\", \"NI\", \"NL\", \"NO\", \"NP\", \"NR\", \"NU\", \"NZ\", \"OM\", \"PA\", \"PE\", \"PF\", \"PG\", \"PH\", \"PK\", \"PL\", \"PM\", \"PN\", \"PR\", \"PS\", \"PT\", \"PW\", \"PY\", \"QA\", \"RE\", \"RO\", \"RS\", \"RU\", \"RW\", \"SA\", \"SB\", \"SC\", \"SD\", \"SE\", \"SG\", \"SH\", \"SI\", \"SJ\", \"SK\", \"SL\", \"SM\", \"SN\", \"SO\", \"SR\", \"SS\", \"ST\", \"SV\", \"SX\", \"SY\", \"SZ\", \"TC\", \"TD\", \"TF\", \"TG\", \"TH\", \"TJ\", \"TK\", \"TL\", \"TM\", \"TN\", \"TO\", \"TR\", \"TT\", \"TV\", \"TW\", \"TZ\", \"UA\", \"UG\", \"UM\", \"US\", \"UY\", \"UZ\", \"VA\", \"VC\", \"VE\", \"VG\", \"VI\", \"VN\", \"VU\", \"WF\", \"WS\", \"YE\", \"YT\", \"ZA\", \"ZM\", \"ZW\"])\n",
        "\n",
        "ProxyYT = widgets.Text(placeholder=\"Proxy URL\")\n",
        "\n",
        "MinSleep = widgets.BoundedIntText(value=0, min=0, max=300, step=1, description=\"Min:\")\n",
        "\n",
        "MaxSleep = widgets.BoundedIntText(value=0, min=0, max=300, step=1, description=\"Max:\")\n",
        "\n",
        "ExtraArg = widgets.Text(placeholder=\"Extra Arguments\")\n",
        "\n",
        "class MakeButton(object):\n",
        "  def __init__(self, title, callback, style):\n",
        "    self._title = title\n",
        "    self._callback = callback\n",
        "    self._style = style\n",
        "  def _repr_html_(self):\n",
        "    callback_id = 'button-' + str(uuid.uuid4())\n",
        "    output.register_callback(callback_id, self._callback)\n",
        "    if self._style != \"\":\n",
        "      style_html = \"p-Widget jupyter-widgets jupyter-button widget-button mod-\" + self._style\n",
        "    else:\n",
        "      style_html = \"p-Widget jupyter-widgets jupyter-button widget-button\"\n",
        "    template = \"\"\"<button class=\"{style_html}\" id=\"{callback_id}\">{title}</button>\n",
        "        <script>\n",
        "          document.querySelector(\"#{callback_id}\").onclick = (e) => {{\n",
        "            google.colab.kernel.invokeFunction('{callback_id}', [], {{}})\n",
        "            e.preventDefault();\n",
        "          }};\n",
        "        </script>\"\"\"\n",
        "    html = template.format(title=self._title, callback_id=callback_id, style_html=style_html)\n",
        "    return html\n",
        "  \n",
        "def MakeLabel(description, button_style):\n",
        "  return widgets.Button(description=description, disabled=True, button_style=button_style)\n",
        "\n",
        "def upload_archive():\n",
        "  if ask_yes_no(\"Do you already have an archive file? (y/n)\", default=\"\", interrupt=\"\"):\n",
        "    try:\n",
        "      display(HTML(\"<h2 style=\\\"font-family:Trebuchet MS;color:#4f8bd6;\\\">Please upload an archive from your computer.</h2><br>\"))\n",
        "      UploadConfig = files.upload().keys()\n",
        "      clear_output(wait=True)\n",
        "      if len(UploadConfig) == 0:\n",
        "        return display(HTML(\"<center><h2 style=\\\"font-family:Trebuchet MS;color:#ce2121;\\\">File upload has been cancelled during upload file.</h2><br></center>\"))\n",
        "      elif len(UploadConfig) == 1:\n",
        "        for fn in UploadConfig:\n",
        "          if os.path.isfile(\"/content/\" + fn):\n",
        "            get_ipython().system_raw(\"mv -f \" + \"\\\"\" + fn + \"\\\" /root/.youtube-dl.txt && chmod 666 /root/.youtube-dl.txt\")\n",
        "            AudioOnly.observe(AudioOnlyChange)\n",
        "            Subtitle.observe(SubtitleChange)\n",
        "            AudioQ.observe(AudioQChange)\n",
        "            ShowYT()\n",
        "          else:\n",
        "            return display(HTML(\"<center><h2 style=\\\"font-family:Trebuchet MS;color:#ce2121;\\\">File upload has been failed during upload file.</h2><br></center>\"))\n",
        "      else:\n",
        "        for fn in UploadConfig:\n",
        "          get_ipython().system_raw(\"rm -f \" + \"\\\"\" + fn + \"\\\"\")\n",
        "        return display(HTML(\"<center><h2 style=\\\"font-family:Trebuchet MS;color:#ce2121;\\\">Please uploading only one file at a time.</h2><br></center>\"))\n",
        "    except:\n",
        "      clear_output(wait=True)\n",
        "      return display(HTML(\"<center><h2 style=\\\"font-family:Trebuchet MS;color:#ce2121;\\\">Error occurred during upload file.</h2><br></center>\"))\n",
        "  else:\n",
        "    get_ipython().system_raw(\"touch '/root/.youtube-dl.txt'\")\n",
        "    AudioOnly.observe(AudioOnlyChange)\n",
        "    Subtitle.observe(SubtitleChange)\n",
        "    AudioQ.observe(AudioQChange)\n",
        "    ShowYT()\n",
        "\n",
        "def RefreshPathYT():\n",
        "  if os.path.exists(\"/content/drive/\"):\n",
        "    if os.path.exists(\"/content/drive/Shared drives/\"):\n",
        "      SavePathYT.options = [\"/content\", \"/content/Downloads\", \"/content/drive/My Drive\"] + glob(\"/content/drive/My Drive/*/\") + glob(\"/content/drive/Shared drives/*/\")\n",
        "    else:\n",
        "      SavePathYT.options = [\"/content\", \"/content/Downloads\", \"/content/drive/My Drive\"] + glob(\"/content/drive/My Drive/*/\")\n",
        "  else:\n",
        "    SavePathYT.options = [\"/content\", \"/content/Downloads\"]\n",
        "\n",
        "def AudioOnlyChange(change):\n",
        "  if change[\"type\"] == \"change\" and change[\"new\"]:\n",
        "    VideoQ.disabled = True\n",
        "    Subtitle.disabled = True\n",
        "    if Subtitle.value:\n",
        "      Subtitle.button_style = \"info\"\n",
        "    else:\n",
        "      Subtitle.button_style = \"\"\n",
        "    Resolution.disabled = True\n",
        "    Extension.options = [\"best\", \"aac\", \"flac\", \"mp3\", \"m4a\", \"opus\", \"vorbis\", \"wav\"]\n",
        "    Extension.value = \"best\"\n",
        "    AudioOnly.button_style = \"info\"\n",
        "  elif change[\"type\"] == \"change\" and change[\"new\"] == False:\n",
        "    VideoQ.disabled = False\n",
        "    Subtitle.disabled = False\n",
        "    if Subtitle.value:\n",
        "      Subtitle.button_style = \"info\"\n",
        "    else:\n",
        "      Subtitle.button_style = \"\"\n",
        "    Resolution.disabled = False\n",
        "    if AudioQ.value == \"Best Quality (Opus)\":\n",
        "      Extension.options = [\"mkv\", \"webm\"]\n",
        "    else:\n",
        "      Extension.options = [\"mkv\", \"mp4\", \"webm\"]\n",
        "    Extension.value = \"mkv\"\n",
        "    AudioOnly.button_style = \"\"\n",
        "\n",
        "def SubtitleChange(change):\n",
        "  if change[\"type\"] == \"change\" and change[\"new\"]:\n",
        "    Subtitle.button_style = \"info\"\n",
        "  elif change[\"type\"] == \"change\" and change[\"new\"] == False:\n",
        "    Subtitle.button_style = \"\"\n",
        "\n",
        "def AudioQChange(change):\n",
        "  if change[\"type\"] == \"change\" and change[\"new\"] == \"Best Quality (Opus)\":\n",
        "    Extension.options = [\"mkv\", \"webm\"]\n",
        "    Extension.value = \"mkv\"\n",
        "  elif change[\"type\"] == \"change\" and change[\"new\"] == \"Best Compatibility (M4A)\":\n",
        "    Extension.options = [\"mkv\", \"mp4\", \"webm\"]\n",
        "    Extension.value = \"mkv\"\n",
        "\n",
        "def ShowYT():\n",
        "  clear_output(wait=True)\n",
        "  RefreshPathYT()\n",
        "  display(widgets.HBox([widgets.VBox([widgets.HTML(\"<b style=\\\"color:#888888;\\\">Link:</b>\"), Links,\n",
        "                                      widgets.HTML(\"<b style=\\\"color:#888888;\\\">For website that require an account:</b>\"), UsernameYT, PasswordYT, SecAuth, VideoPW,\n",
        "                                      widgets.HTML(\"<b><a href=\\\"https://en.wikipedia.org/wiki/ISO_3166-1_alpha-2#Officially_assigned_code_elements\\\" target=\\\"_blank\\\">GEO Bypass Country:</a></b>\"), GEOBypass,\n",
        "                                      widgets.HTML(\"<b style=\\\"color:#888888;\\\">Proxy:</b>\"), ProxyYT,\n",
        "                                      widgets.HTML(\"<b style=\\\"color:#888888;\\\">Sleep Interval (second):</b>\"), MinSleep, MaxSleep]),\n",
        "                        widgets.VBox([widgets.HTML(\"<b style=\\\"color:#888888;\\\">Video Quality:</b>\"), VideoQ, widgets.HTML(\"<b style=\\\"color:#888888;\\\">Resolution:</b>\"), Resolution,\n",
        "                                      widgets.HTML(\"<b style=\\\"color:#888888;\\\">Audio Quality:</b>\"), AudioQ, widgets.HTML(\"<b style=\\\"color:#888888;\\\">Extension:</b>\"), Extension,\n",
        "                                      widgets.HTML(\"<b style=\\\"color:#888888;\\\">Extra Options:</b>\"), widgets.HBox([Subtitle, AudioOnly]),\n",
        "                                      widgets.HTML(\"<b style=\\\"color:#888888;\\\">Extra Arguments:</b>\"), ExtraArg])]), HTML(\"<h4 style=\\\"color:#888888;\\\">Save Location:</h4>\"),\n",
        "          SavePathYT, MakeButton(\"Refresh\", RefreshPathYT, \"\"))\n",
        "  if not os.path.exists(\"/content/drive/\"):\n",
        "    display(HTML(\"*If you want to save in Google Drive please run the cell below.\"))\n",
        "  display(HTML(\"<br>\"), MakeButton(\"Download\", DownloadYT, \"info\"))\n",
        "\n",
        "def DownloadYT():\n",
        "  if Links.value.strip():\n",
        "    Count = 0\n",
        "    Total = str(len(Links.value.splitlines()))\n",
        "    # Account Check\n",
        "    if UsernameYT.value.strip() and PasswordYT.value.strip():\n",
        "      accountC = \"--username \\\"\" + UsernameYT.value + \"\\\" --password \\\"\" + PasswordYT.value + \"\\\"\"\n",
        "    else:\n",
        "      accountC = \"\"\n",
        "    if SecAuth.value.strip():\n",
        "      secauthC = \"-2 \" + SecAuth.value\n",
        "    else:\n",
        "      secauthC = \"\"\n",
        "    if VideoPW.value.strip():\n",
        "      videopwC = \"--video-password \" + VideoPW.value\n",
        "    else:\n",
        "      videopwC = \"\"\n",
        "    # Proxy\n",
        "    if ProxyYT.value.strip():\n",
        "      proxyytC = \"--proxy \" + ProxyYT.value\n",
        "    else:\n",
        "      proxyytC = \"\"\n",
        "    # GEO Bypass\n",
        "    if GEOBypass.value == \"Disable\":\n",
        "      geobypass = \"\"\n",
        "    elif GEOBypass.value == \"Hide\":\n",
        "      geobypass = \"--geo-bypass\"\n",
        "    else:\n",
        "      geobypass = \"--geo-bypass-country \" + GEOBypass.value\n",
        "    # Video Quality\n",
        "    if VideoQ.value == \"Best Quality (VP9 upto 4K)\":\n",
        "      videoqC = \"webm\"\n",
        "    else:\n",
        "      videoqC = \"mp4\"\n",
        "    # Audio Quality\n",
        "    if AudioQ.value == \"Best Quality (Opus)\":\n",
        "      audioqC = \"webm\"\n",
        "    else:\n",
        "      audioqC = \"m4a\"\n",
        "    # Audio Only Check\n",
        "    if AudioOnly.value:\n",
        "      subtitleC = \"\"\n",
        "      thumbnailC = \"\"\n",
        "      extC = \"-x --audio-quality 0 --audio-format \" + Extension.value\n",
        "      codecC = \"bestaudio[ext=\" + audioqC + \"]/bestaudio/best\"\n",
        "    else:\n",
        "      if Subtitle.value:\n",
        "        subtitleC = \"--all-subs --convert-subs srt --embed-subs\"\n",
        "      else:\n",
        "        subtitleC = \"\"\n",
        "      if Extension.value == \"mp4\":\n",
        "        thumbnailC = \"--embed-thumbnail\"\n",
        "      else:\n",
        "        thumbnailC = \"\"\n",
        "      extC = \"--merge-output-format \" + Extension.value\n",
        "      if Resolution.value == \"Highest\":\n",
        "        codecC = \"bestvideo[ext=\" + videoqC + \"]+bestaudio[ext=\" + audioqC + \"]/bestvideo+bestaudio/best\"\n",
        "      else:\n",
        "        codecC = \"bestvideo[ext=\" + videoqC + \",height<=\" + Resolution.value.replace(\"4K\", \"2160\").replace(\"p\", \"\") + \"]+bestaudio[ext=\" + audioqC + \"]/bestvideo[height<=\" + Resolution.value.replace(\"4K\", \"2160\").replace(\"p\", \"\") + \"]+bestaudio/bestvideo+bestaudio/best\"\n",
        "    # Archive\n",
        "    if os.path.isfile(\"/root/.youtube-dl.txt\"):\n",
        "      archiveC = \"--download-archive \\\"/root/.youtube-dl.txt\\\"\"\n",
        "    else:\n",
        "      archiveC = \"\"\n",
        "    # Sleep Interval\n",
        "    if MinSleep.value > 0 and MaxSleep.value > 0:\n",
        "      minsleepC = \"--min-sleep-interval \" + MinSleep.value\n",
        "      maxsleepC = \"--max-sleep-interval \" + MaxSleep.value\n",
        "    else:\n",
        "      minsleepC = \"\"\n",
        "      maxsleepC = \"\"\n",
        "    # Extra Arguments\n",
        "    extraargC = ExtraArg.value\n",
        "    for Link in Links.value.splitlines():\n",
        "      clear_output(wait=True)\n",
        "      Count += 1\n",
        "      display(HTML(\"<h3 style=\\\"font-family:Trebuchet MS;color:#4f8bd6;\\\">Processing link \" + str(Count) + \" out of \" + Total + \"</h3>\"))\n",
        "      if \"youtube.com\" in Link or \"youtu.be\" in Link:\n",
        "        display(HTML(\"<h3 style=\\\"font-family:Trebuchet MS;color:#4f8bd6;\\\">Currently downloading...</h3><br>\"), YouTubeVideo(Link, width=640, height=360), HTML(\"<br>\"))\n",
        "      else:\n",
        "        display(HTML(\"<h3 style=\\\"font-family:Trebuchet MS;color:#4f8bd6;\\\">Currently downloading <a href=\\\"\" + Link + \"\\\">\" + Link + \"</a></h3><br>\"))\n",
        "      if (\"youtube.com\" in Link or \"youtu.be\" in Link) and \"list=\" in Link:\n",
        "        !youtube-dl -i --no-warnings --yes-playlist --add-metadata $accountC $secauthC $videopwC $minsleepC $maxsleepC $geobypass $proxyytC $extC $thumbnailC $subtitleC $archiveC $extraargC -f \"$codecC\" -o \"/root/.YouTube-DL/%(playlist)s/%(playlist_index)s - %(title)s.%(ext)s\" \"$Link\"\n",
        "      else:\n",
        "        !youtube-dl -i --no-warnings --yes-playlist --add-metadata $accountC $secauthC $videopwC $minsleepC $maxsleepC $geobypass $proxyytC $extC $thumbnailC $subtitleC $archiveC $extraargC -f \"$codecC\" -o \"/root/.YouTube-DL/%(title)s.%(ext)s\" \"$Link\"\n",
        "      if not os.path.exists(SavePathYT.value):\n",
        "        get_ipython().system_raw(\"mkdir -p -m 666 \" + SavePathYT.value)\n",
        "      get_ipython().system_raw(\"mv /root/.YouTube-DL/* '\" + SavePathYT.value + \"/'\")\n",
        "    # Archive Download\n",
        "    if os.path.isfile(\"/root/.youtube-dl.txt\"):\n",
        "      files.download(\"/root/.youtube-dl.txt\")\n",
        "    ShowYT()\n",
        "\n",
        "if not os.path.isfile(\"/usr/local/bin/youtube-dl\"):\n",
        "  get_ipython().system_raw(\"rm -rf /content/sample_data/ && mkdir -p -m 666 /root/.YouTube-DL/ && apt-get install atomicparsley && curl -L https://yt-dl.org/downloads/latest/youtube-dl -o /usr/local/bin/youtube-dl && chmod a+rx /usr/local/bin/youtube-dl\")\n",
        "if Archive:\n",
        "  upload_archive()\n",
        "else:\n",
        "  AudioOnly.observe(AudioOnlyChange)\n",
        "  Subtitle.observe(SubtitleChange)\n",
        "  AudioQ.observe(AudioQChange)\n",
        "  ShowYT()"
      ],
      "execution_count": null,
      "outputs": []
    },
    {
      "cell_type": "markdown",
      "metadata": {
        "id": "gIHEbaZU8tuT"
      },
      "source": [
        "# Now We are Going to Download Whole Channel"
      ]
    },
    {
      "cell_type": "code",
      "metadata": {
        "id": "7RBGT0nnZNzk",
        "colab": {
          "base_uri": "https://localhost:8080/"
        },
        "outputId": "af6c1cfa-5ef5-4469-8dfd-7c91b82a30ac"
      },
      "source": [
        "!sudo curl -L https://yt-dl.org/downloads/latest/youtube-dl -o /usr/local/bin/youtube-dl"
      ],
      "execution_count": 3,
      "outputs": [
        {
          "output_type": "stream",
          "text": [
            "  % Total    % Received % Xferd  Average Speed   Time    Time     Time  Current\n",
            "                                 Dload  Upload   Total   Spent    Left  Speed\n",
            "100     3  100     3    0     0      2      0  0:00:01  0:00:01 --:--:--     2\n",
            "100     3  100     3    0     0      2      0  0:00:01  0:00:01 --:--:--     2\n",
            "100   614  100   614    0     0    371      0  0:00:01  0:00:01 --:--:--   371\n",
            "100 1797k  100 1797k    0     0   991k      0  0:00:01  0:00:01 --:--:--  991k\n"
          ],
          "name": "stdout"
        }
      ]
    },
    {
      "cell_type": "code",
      "metadata": {
        "id": "m3l8wAQ_cF0J"
      },
      "source": [
        "!sudo chmod a+rx /usr/local/bin/youtube-dl"
      ],
      "execution_count": 4,
      "outputs": []
    },
    {
      "cell_type": "code",
      "metadata": {
        "id": "dSvE6-En7qx9",
        "colab": {
          "base_uri": "https://localhost:8080/"
        },
        "outputId": "bd805be3-5278-4d0c-ffbf-0633a5c9f349"
      },
      "source": [
        "!youtube-dl -f '(bestvideo+bestaudio/best)'  -ciw -o \"%(title)s.%(ext)s\" -v \"https://www.youtube.com/c/AngryPrashReal/videos\""
      ],
      "execution_count": 5,
      "outputs": [
        {
          "output_type": "stream",
          "text": [
            "[debug] System config: []\n",
            "[debug] User config: []\n",
            "[debug] Custom config: []\n",
            "[debug] Command-line args: ['-f', '(bestvideo+bestaudio/best)', '-ciw', '-o', '%(title)s.%(ext)s', '-v', 'https://www.youtube.com/c/AngryPrashReal/videos']\n",
            "[debug] Encodings: locale UTF-8, fs utf-8, out UTF-8, pref UTF-8\n",
            "[debug] youtube-dl version 2021.06.06\n",
            "[debug] Python version 3.7.11 (CPython) - Linux-5.4.104+-x86_64-with-Ubuntu-18.04-bionic\n",
            "[debug] exe versions: ffmpeg 3.4.8, ffprobe 3.4.8\n",
            "[debug] Proxy map: {}\n",
            "[youtube:tab] AngryPrashReal: Downloading webpage\n",
            "[download] Downloading playlist: Angry Prash - Videos\n",
            "[youtube:tab] Downloading page 1\n",
            "[youtube:tab] Downloading page 2\n",
            "[youtube:tab] Downloading page 3\n",
            "[youtube:tab] Downloading page 4\n",
            "[youtube:tab] playlist Angry Prash - Videos: Downloading 133 videos\n",
            "[download] Downloading video 1 of 133\n",
            "[youtube] FClg_QpSwdY: Downloading webpage\n",
            "\u001b[0;33mWARNING:\u001b[0m Requested formats are incompatible for merge and will be merged into mkv.\n",
            "[debug] Invoking downloader on 'https://r2---sn-q4flrnel.googlevideo.com/videoplayback?expire=1629488822&ei=VrIfYY_6IcfakgbHoJvgBw&ip=34.125.204.195&id=o-AOZkExMIQv3fkCvoxx5egDmdjlqOf_YIKHW9oY8gKm-n&itag=313&aitags=133%2C134%2C135%2C136%2C137%2C160%2C242%2C243%2C244%2C247%2C248%2C271%2C278%2C313%2C394%2C395%2C396%2C397%2C398%2C399%2C400%2C401&source=youtube&requiressl=yes&mh=3G&mm=31%2C26&mn=sn-q4flrnel%2Csn-5goeen7k&ms=au%2Conr&mv=m&mvi=2&pl=22&initcwndbps=2318750&vprv=1&mime=video%2Fwebm&ns=zeNV2x_m2kiko6I9PcU9xdQG&gir=yes&clen=477361696&dur=295.291&lmt=1629094640185096&mt=1629466852&fvip=2&keepalive=yes&fexp=24001373%2C24007246&c=WEB&txp=5532432&n=RU7G1IquJDN9DUSBw&sparams=expire%2Cei%2Cip%2Cid%2Caitags%2Csource%2Crequiressl%2Cvprv%2Cmime%2Cns%2Cgir%2Cclen%2Cdur%2Clmt&sig=AOq0QJ8wRAIgAhEeNXP_OabhCmr7dG_MvZW_JcSixxuT7UXpfHDuGCYCIH5gRvNldscW1G-vPFF9ZEKwt4VeXMvTFLYezud0gLIm&lsparams=mh%2Cmm%2Cmn%2Cms%2Cmv%2Cmvi%2Cpl%2Cinitcwndbps&lsig=AG3C_xAwRQIgDHNhsdFHmh3CmPG7RqN4YyfP9s0wCwTb-iv0dZDfLNwCIQDJic2vkHkSjq_bRKm2cW0M6IlnyjWgZ3ZdYLdaUO5aHw%3D%3D'\n",
            "[download] Destination: PARTY PARTY _ Angry Prash (Official Music Video).f313.webm\n",
            "\u001b[K[download] 100% of 455.25MiB in 00:22\n",
            "[debug] Invoking downloader on 'https://r2---sn-q4flrnel.googlevideo.com/videoplayback?expire=1629488822&ei=VrIfYY_6IcfakgbHoJvgBw&ip=34.125.204.195&id=o-AOZkExMIQv3fkCvoxx5egDmdjlqOf_YIKHW9oY8gKm-n&itag=140&source=youtube&requiressl=yes&mh=3G&mm=31%2C26&mn=sn-q4flrnel%2Csn-5goeen7k&ms=au%2Conr&mv=m&mvi=2&pl=22&initcwndbps=2318750&vprv=1&mime=audio%2Fmp4&ns=zeNV2x_m2kiko6I9PcU9xdQG&gir=yes&clen=4780749&dur=295.357&lmt=1629093762290808&mt=1629466852&fvip=2&keepalive=yes&fexp=24001373%2C24007246&c=WEB&txp=5531432&n=RU7G1IquJDN9DUSBw&sparams=expire%2Cei%2Cip%2Cid%2Citag%2Csource%2Crequiressl%2Cvprv%2Cmime%2Cns%2Cgir%2Cclen%2Cdur%2Clmt&sig=AOq0QJ8wRgIhAI6frax934UhBFrhvSXu06GORRFs0GpZ8u9ZK_jEgVPMAiEAw9a5fcqSHQXoXEVLBinBXieMbaefY-v1l_zTtl4SnaM%3D&lsparams=mh%2Cmm%2Cmn%2Cms%2Cmv%2Cmvi%2Cpl%2Cinitcwndbps&lsig=AG3C_xAwRQIgDHNhsdFHmh3CmPG7RqN4YyfP9s0wCwTb-iv0dZDfLNwCIQDJic2vkHkSjq_bRKm2cW0M6IlnyjWgZ3ZdYLdaUO5aHw%3D%3D'\n",
            "[download] Destination: PARTY PARTY _ Angry Prash (Official Music Video).f140.m4a\n",
            "\u001b[K[download] 100% of 4.56MiB in 00:00\n",
            "[ffmpeg] Merging formats into \"PARTY PARTY _ Angry Prash (Official Music Video).mkv\"\n",
            "[debug] ffmpeg command line: ffmpeg -y -loglevel repeat+info -i 'file:PARTY PARTY _ Angry Prash (Official Music Video).f313.webm' -i 'file:PARTY PARTY _ Angry Prash (Official Music Video).f140.m4a' -c copy -map 0:v:0 -map 1:a:0 'file:PARTY PARTY _ Angry Prash (Official Music Video).temp.mkv'\n",
            "Deleting original file PARTY PARTY _ Angry Prash (Official Music Video).f313.webm (pass -k to keep)\n",
            "Deleting original file PARTY PARTY _ Angry Prash (Official Music Video).f140.m4a (pass -k to keep)\n",
            "[download] Downloading video 2 of 133\n",
            "[youtube] C-dbtjKFT_o: Downloading webpage\n",
            "\u001b[0;33mWARNING:\u001b[0m Requested formats are incompatible for merge and will be merged into mkv.\n",
            "[debug] Invoking downloader on 'https://r1---sn-q4flrn7k.googlevideo.com/videoplayback?expire=1629488850&ei=crIfYb6ZMIqWsfIPqZGwgAQ&ip=34.125.204.195&id=o-AOZwRtGW8KmrqmfLrIwY8aMMp5TjxW7m84qRhsR0aIP3&itag=248&aitags=133%2C134%2C135%2C136%2C137%2C160%2C242%2C243%2C244%2C247%2C248%2C278%2C394%2C395%2C396%2C397%2C398%2C399&source=youtube&requiressl=yes&mh=Gx&mm=31%2C26&mn=sn-q4flrn7k%2Csn-5goeen7r&ms=au%2Conr&mv=m&mvi=1&pl=22&initcwndbps=3725000&vprv=1&mime=video%2Fwebm&ns=hg2Bbg3HZxy-V0y1d7V5w38G&gir=yes&clen=56102347&dur=443.240&lmt=1626557126559424&mt=1629467092&fvip=1&keepalive=yes&fexp=24001373%2C24007246&c=WEB&txp=5535432&n=FlT-hoCvDp7ijv3RW&sparams=expire%2Cei%2Cip%2Cid%2Caitags%2Csource%2Crequiressl%2Cvprv%2Cmime%2Cns%2Cgir%2Cclen%2Cdur%2Clmt&sig=AOq0QJ8wRQIgNvJH5m9EHWAsjF1vw9RRhJgeY117Yc-HbjconxXLx6gCIQDr4CtkWJS-YLnZlGHiC5CzaQI3sw53S--PDJz23YNJuQ%3D%3D&lsparams=mh%2Cmm%2Cmn%2Cms%2Cmv%2Cmvi%2Cpl%2Cinitcwndbps&lsig=AG3C_xAwRgIhANUYzbEWvcLaT5MoSq9O74zPiPAmeHPUHTlxZ7I0aal0AiEAr2FHmEe-vgKoTYBt5G8_TS5jfAD7EW3EJs4fBRd3FQ8%3D'\n",
            "[download] Destination: NAGU THE LEGEND  - PART 2 _ Angry Prash #Extra.f248.webm\n",
            "\u001b[K[download] 100% of 53.50MiB in 00:03\n",
            "[debug] Invoking downloader on 'https://r1---sn-q4flrn7k.googlevideo.com/videoplayback?expire=1629488850&ei=crIfYb6ZMIqWsfIPqZGwgAQ&ip=34.125.204.195&id=o-AOZwRtGW8KmrqmfLrIwY8aMMp5TjxW7m84qRhsR0aIP3&itag=140&source=youtube&requiressl=yes&mh=Gx&mm=31%2C26&mn=sn-q4flrn7k%2Csn-5goeen7r&ms=au%2Conr&mv=m&mvi=1&pl=22&initcwndbps=3725000&vprv=1&mime=audio%2Fmp4&ns=hg2Bbg3HZxy-V0y1d7V5w38G&gir=yes&clen=7174962&dur=443.292&lmt=1626556403039899&mt=1629467092&fvip=1&keepalive=yes&fexp=24001373%2C24007246&c=WEB&txp=5531432&n=FlT-hoCvDp7ijv3RW&sparams=expire%2Cei%2Cip%2Cid%2Citag%2Csource%2Crequiressl%2Cvprv%2Cmime%2Cns%2Cgir%2Cclen%2Cdur%2Clmt&sig=AOq0QJ8wRQIgeCsz9SR5WYBmV6v5Q3YxbuUGpngjZU_-KWghhOkia-ACIQDhkdo3yZNwhdZ9P_rypW_2PZGHOES2oBvhiQcxgjyCJA%3D%3D&lsparams=mh%2Cmm%2Cmn%2Cms%2Cmv%2Cmvi%2Cpl%2Cinitcwndbps&lsig=AG3C_xAwRgIhANUYzbEWvcLaT5MoSq9O74zPiPAmeHPUHTlxZ7I0aal0AiEAr2FHmEe-vgKoTYBt5G8_TS5jfAD7EW3EJs4fBRd3FQ8%3D'\n",
            "[download] Destination: NAGU THE LEGEND  - PART 2 _ Angry Prash #Extra.f140.m4a\n",
            "\u001b[K[download] 100% of 6.84MiB in 00:00\n",
            "[ffmpeg] Merging formats into \"NAGU THE LEGEND  - PART 2 _ Angry Prash #Extra.mkv\"\n",
            "[debug] ffmpeg command line: ffmpeg -y -loglevel repeat+info -i 'file:NAGU THE LEGEND  - PART 2 _ Angry Prash #Extra.f248.webm' -i 'file:NAGU THE LEGEND  - PART 2 _ Angry Prash #Extra.f140.m4a' -c copy -map 0:v:0 -map 1:a:0 'file:NAGU THE LEGEND  - PART 2 _ Angry Prash #Extra.temp.mkv'\n",
            "Deleting original file NAGU THE LEGEND  - PART 2 _ Angry Prash #Extra.f248.webm (pass -k to keep)\n",
            "Deleting original file NAGU THE LEGEND  - PART 2 _ Angry Prash #Extra.f140.m4a (pass -k to keep)\n",
            "[download] Downloading video 3 of 133\n",
            "[youtube] rqQMxPLgotc: Downloading webpage\n",
            "\u001b[0;33mWARNING:\u001b[0m Requested formats are incompatible for merge and will be merged into mkv.\n",
            "[debug] Invoking downloader on 'https://r4---sn-q4flrnl6.googlevideo.com/videoplayback?expire=1629488856&ei=eLIfYcDaI4-PkwaIoqeoBQ&ip=34.125.204.195&id=o-AMYtIQtCQVqWPIrXFbGSharTHtxGJ9dZbBbrQSPlQKFq&itag=248&aitags=133%2C134%2C135%2C136%2C137%2C160%2C242%2C243%2C244%2C247%2C248%2C278%2C394%2C395%2C396%2C397%2C398%2C399&source=youtube&requiressl=yes&mh=e9&mm=31%2C26&mn=sn-q4flrnl6%2Csn-5goeen7r&ms=au%2Conr&mv=m&mvi=4&pl=22&initcwndbps=3725000&vprv=1&mime=video%2Fwebm&ns=TrBLwWhBryFdYcU7ZOEGu1AG&gir=yes&clen=83244420&dur=616.120&lmt=1625500250412074&mt=1629467092&fvip=4&keepalive=yes&fexp=24001373%2C24007246&c=WEB&txp=5535432&n=5P3qWbG2lIy_u22c4&sparams=expire%2Cei%2Cip%2Cid%2Caitags%2Csource%2Crequiressl%2Cvprv%2Cmime%2Cns%2Cgir%2Cclen%2Cdur%2Clmt&sig=AOq0QJ8wRAIgGGAgEMEFRPEBruZaOPNxPmlju28C4FJmntQCizqkF_sCICQISDkkjbt_fVtxux-tB9irv15gmMZ1PFNzmad8rxSx&lsparams=mh%2Cmm%2Cmn%2Cms%2Cmv%2Cmvi%2Cpl%2Cinitcwndbps&lsig=AG3C_xAwRQIhAN3KV86pgt61kW24Z5fuNMI_gr4wRNyJiNgbrU7JERa9AiBhrbVEULDsRDIEiKwhWlM0E_a0zVAs4Pjk_MD74iwgwg%3D%3D'\n",
            "[download] Destination: THE REAL BATTLEGROUNDS  - BGMI _ Angry Prash.f248.webm\n",
            "\u001b[K[download] 100% of 79.39MiB in 00:06\n",
            "[debug] Invoking downloader on 'https://r4---sn-q4flrnl6.googlevideo.com/videoplayback?expire=1629488856&ei=eLIfYcDaI4-PkwaIoqeoBQ&ip=34.125.204.195&id=o-AMYtIQtCQVqWPIrXFbGSharTHtxGJ9dZbBbrQSPlQKFq&itag=140&source=youtube&requiressl=yes&mh=e9&mm=31%2C26&mn=sn-q4flrnl6%2Csn-5goeen7r&ms=au%2Conr&mv=m&mvi=4&pl=22&initcwndbps=3725000&vprv=1&mime=audio%2Fmp4&ns=TrBLwWhBryFdYcU7ZOEGu1AG&gir=yes&clen=9973010&dur=616.187&lmt=1625499860914643&mt=1629467092&fvip=4&keepalive=yes&fexp=24001373%2C24007246&c=WEB&txp=5531432&n=5P3qWbG2lIy_u22c4&sparams=expire%2Cei%2Cip%2Cid%2Citag%2Csource%2Crequiressl%2Cvprv%2Cmime%2Cns%2Cgir%2Cclen%2Cdur%2Clmt&sig=AOq0QJ8wRgIhAMm0YTgVmFn6WvNjAhwUX4BDRj3s95qsWGgjpE_T2BbDAiEAvn2flgSi2ysVSKKmW7MnC-skbiKxHFAatVKafpJhdBI%3D&lsparams=mh%2Cmm%2Cmn%2Cms%2Cmv%2Cmvi%2Cpl%2Cinitcwndbps&lsig=AG3C_xAwRQIhAN3KV86pgt61kW24Z5fuNMI_gr4wRNyJiNgbrU7JERa9AiBhrbVEULDsRDIEiKwhWlM0E_a0zVAs4Pjk_MD74iwgwg%3D%3D'\n",
            "[download] Destination: THE REAL BATTLEGROUNDS  - BGMI _ Angry Prash.f140.m4a\n",
            "\u001b[K[download] 100% of 9.51MiB in 00:00\n",
            "[ffmpeg] Merging formats into \"THE REAL BATTLEGROUNDS  - BGMI _ Angry Prash.mkv\"\n",
            "[debug] ffmpeg command line: ffmpeg -y -loglevel repeat+info -i 'file:THE REAL BATTLEGROUNDS  - BGMI _ Angry Prash.f248.webm' -i 'file:THE REAL BATTLEGROUNDS  - BGMI _ Angry Prash.f140.m4a' -c copy -map 0:v:0 -map 1:a:0 'file:THE REAL BATTLEGROUNDS  - BGMI _ Angry Prash.temp.mkv'\n",
            "Deleting original file THE REAL BATTLEGROUNDS  - BGMI _ Angry Prash.f248.webm (pass -k to keep)\n",
            "Deleting original file THE REAL BATTLEGROUNDS  - BGMI _ Angry Prash.f140.m4a (pass -k to keep)\n",
            "[download] Downloading video 4 of 133\n",
            "[youtube] pTS2ssuzJCg: Downloading webpage\n",
            "\u001b[0;33mWARNING:\u001b[0m Requested formats are incompatible for merge and will be merged into mkv.\n",
            "[debug] Invoking downloader on 'https://r5---sn-q4fl6nle.googlevideo.com/videoplayback?expire=1629488865&ei=gbIfYYTRMLeOsfIPrMOtyA0&ip=34.125.204.195&id=o-AIYIrjc6__dZvsIi7vtH98zfZQxU09nqZFu9mSdzofxC&itag=248&aitags=133%2C134%2C135%2C136%2C137%2C160%2C242%2C243%2C244%2C247%2C248%2C278&source=youtube&requiressl=yes&mh=uw&mm=31%2C26&mn=sn-q4fl6nle%2Csn-5go7yner&ms=au%2Conr&mv=m&mvi=5&pl=22&initcwndbps=3725000&vprv=1&mime=video%2Fwebm&ns=Lva1G6HjRv9xWM5jjmDlurwG&gir=yes&clen=159177479&dur=1226.680&lmt=1624109580385120&mt=1629467092&fvip=5&keepalive=yes&fexp=24001373%2C24007246&c=WEB&txp=5535434&n=MDIGKh7sUhbY2CTLw&sparams=expire%2Cei%2Cip%2Cid%2Caitags%2Csource%2Crequiressl%2Cvprv%2Cmime%2Cns%2Cgir%2Cclen%2Cdur%2Clmt&sig=AOq0QJ8wRgIhAJ6G3_ktUGda_ZwqFJ4m4JiVJ_TJPAnAx7DQct2l_Ab2AiEA69-rC5xPlF_kxYycmZFBe-WzEkW3CVg0y33JoG8Oltc%3D&lsparams=mh%2Cmm%2Cmn%2Cms%2Cmv%2Cmvi%2Cpl%2Cinitcwndbps&lsig=AG3C_xAwRAIgOpUvkyDm2DWI_TNzp8F12Wq6ajANmCh7L0uqIYjyoi0CIDtgiCXZ72i7JD7bCX2Qrfaeyb-gHouOUS0CcN3mJD4-'\n",
            "[download] Destination: ALADDIN  - THE MAGIC BOTTLE _ Angry Prash.f248.webm\n",
            "\u001b[K[download] 100% of 151.80MiB in 00:07\n",
            "[debug] Invoking downloader on 'https://r5---sn-q4fl6nle.googlevideo.com/videoplayback?expire=1629488865&ei=gbIfYYTRMLeOsfIPrMOtyA0&ip=34.125.204.195&id=o-AIYIrjc6__dZvsIi7vtH98zfZQxU09nqZFu9mSdzofxC&itag=140&source=youtube&requiressl=yes&mh=uw&mm=31%2C26&mn=sn-q4fl6nle%2Csn-5go7yner&ms=au%2Conr&mv=m&mvi=5&pl=22&initcwndbps=3725000&vprv=1&mime=audio%2Fmp4&ns=Lva1G6HjRv9xWM5jjmDlurwG&gir=yes&clen=19854086&dur=1226.733&lmt=1624103000113587&mt=1629467092&fvip=5&keepalive=yes&fexp=24001373%2C24007246&c=WEB&txp=5532434&n=MDIGKh7sUhbY2CTLw&sparams=expire%2Cei%2Cip%2Cid%2Citag%2Csource%2Crequiressl%2Cvprv%2Cmime%2Cns%2Cgir%2Cclen%2Cdur%2Clmt&sig=AOq0QJ8wRgIhALZ59fDUl61NmN-3SNllhfaEQiyY50U8xs9IOvpH4sYfAiEAkx9KZHAFKAYMK959XSSEPB7k3UMODd2c-W5tP6dRGNI%3D&lsparams=mh%2Cmm%2Cmn%2Cms%2Cmv%2Cmvi%2Cpl%2Cinitcwndbps&lsig=AG3C_xAwRAIgOpUvkyDm2DWI_TNzp8F12Wq6ajANmCh7L0uqIYjyoi0CIDtgiCXZ72i7JD7bCX2Qrfaeyb-gHouOUS0CcN3mJD4-'\n",
            "[download] Destination: ALADDIN  - THE MAGIC BOTTLE _ Angry Prash.f140.m4a\n",
            "\u001b[K[download] 100% of 18.93MiB in 00:01\n",
            "[ffmpeg] Merging formats into \"ALADDIN  - THE MAGIC BOTTLE _ Angry Prash.mkv\"\n",
            "[debug] ffmpeg command line: ffmpeg -y -loglevel repeat+info -i 'file:ALADDIN  - THE MAGIC BOTTLE _ Angry Prash.f248.webm' -i 'file:ALADDIN  - THE MAGIC BOTTLE _ Angry Prash.f140.m4a' -c copy -map 0:v:0 -map 1:a:0 'file:ALADDIN  - THE MAGIC BOTTLE _ Angry Prash.temp.mkv'\n",
            "Deleting original file ALADDIN  - THE MAGIC BOTTLE _ Angry Prash.f248.webm (pass -k to keep)\n",
            "Deleting original file ALADDIN  - THE MAGIC BOTTLE _ Angry Prash.f140.m4a (pass -k to keep)\n",
            "[download] Downloading video 5 of 133\n",
            "[youtube] Bn7RrNL7dpE: Downloading webpage\n",
            "[debug] Invoking downloader on 'https://r5---sn-q4fl6nz7.googlevideo.com/videoplayback?expire=1629488877&ei=jbIfYZLOC8SkkwbM_JT4Bg&ip=34.125.204.195&id=o-ANpKRtex_Kfy0odIYyQJ6QtdCWTbi4ZdWVS4NfTjFvt8&itag=398&aitags=133%2C134%2C135%2C136%2C137%2C160%2C242%2C243%2C244%2C247%2C278%2C394%2C395%2C396%2C397%2C398&source=youtube&requiressl=yes&mh=uF&mm=31%2C26&mn=sn-q4fl6nz7%2Csn-5go7yner&ms=au%2Conr&mv=m&mvi=5&pl=22&initcwndbps=3725000&vprv=1&mime=video%2Fmp4&ns=pYKvr05pi-80pK2AseS7VZcG&gir=yes&clen=2819069&dur=51.217&lmt=1626077859944948&mt=1629467092&fvip=5&keepalive=yes&fexp=24001373%2C24007246&c=WEB&txp=5532434&n=qXn-v8CoocNltwqTC&sparams=expire%2Cei%2Cip%2Cid%2Caitags%2Csource%2Crequiressl%2Cvprv%2Cmime%2Cns%2Cgir%2Cclen%2Cdur%2Clmt&sig=AOq0QJ8wRQIgPPYQ1rCLdQT3KS2I3f8BO-Rr5abNHhHHOSTpiNkWQnUCIQDrYnpe4nSOudyb4EaMIAIE5CgUcuPLCZ6HwLlPWjF2ug%3D%3D&lsparams=mh%2Cmm%2Cmn%2Cms%2Cmv%2Cmvi%2Cpl%2Cinitcwndbps&lsig=AG3C_xAwRQIhAIDxVafiGdcwMBVPgMY1fPw5PtbYRudOim8LE4GhkWjIAiAtXvqe1GdR2ruxFNEyas1miTNgGym6OlQWdbOcTKMLEw%3D%3D'\n",
            "[download] Destination: Angry Alien Reporting CAT _ #Shorts.f398.mp4\n",
            "\u001b[K[download] 100% of 2.69MiB in 00:00\n",
            "[debug] Invoking downloader on 'https://r5---sn-q4fl6nz7.googlevideo.com/videoplayback?expire=1629488877&ei=jbIfYZLOC8SkkwbM_JT4Bg&ip=34.125.204.195&id=o-ANpKRtex_Kfy0odIYyQJ6QtdCWTbi4ZdWVS4NfTjFvt8&itag=140&source=youtube&requiressl=yes&mh=uF&mm=31%2C26&mn=sn-q4fl6nz7%2Csn-5go7yner&ms=au%2Conr&mv=m&mvi=5&pl=22&initcwndbps=3725000&vprv=1&mime=audio%2Fmp4&ns=pYKvr05pi-80pK2AseS7VZcG&gir=yes&clen=830506&dur=51.269&lmt=1622968587134064&mt=1629467092&fvip=5&keepalive=yes&fexp=24001373%2C24007246&c=WEB&txp=5532434&n=qXn-v8CoocNltwqTC&sparams=expire%2Cei%2Cip%2Cid%2Citag%2Csource%2Crequiressl%2Cvprv%2Cmime%2Cns%2Cgir%2Cclen%2Cdur%2Clmt&sig=AOq0QJ8wRQIgab6jduB8FSZSxyVD15Xg3riUvrsMFNunyycHQMfKuXwCIQCah6PvMAWwJotPQMA7Np5YYekUbL50cIPQzeUZ8fGSlw%3D%3D&lsparams=mh%2Cmm%2Cmn%2Cms%2Cmv%2Cmvi%2Cpl%2Cinitcwndbps&lsig=AG3C_xAwRQIhAIDxVafiGdcwMBVPgMY1fPw5PtbYRudOim8LE4GhkWjIAiAtXvqe1GdR2ruxFNEyas1miTNgGym6OlQWdbOcTKMLEw%3D%3D'\n",
            "[download] Destination: Angry Alien Reporting CAT _ #Shorts.f140.m4a\n",
            "\u001b[K[download] 100% of 811.04KiB in 00:00\n",
            "[ffmpeg] Merging formats into \"Angry Alien Reporting CAT _ #Shorts.mp4\"\n",
            "[debug] ffmpeg command line: ffmpeg -y -loglevel repeat+info -i 'file:Angry Alien Reporting CAT _ #Shorts.f398.mp4' -i 'file:Angry Alien Reporting CAT _ #Shorts.f140.m4a' -c copy -map 0:v:0 -map 1:a:0 'file:Angry Alien Reporting CAT _ #Shorts.temp.mp4'\n",
            "Deleting original file Angry Alien Reporting CAT _ #Shorts.f398.mp4 (pass -k to keep)\n",
            "Deleting original file Angry Alien Reporting CAT _ #Shorts.f140.m4a (pass -k to keep)\n",
            "[download] Downloading video 6 of 133\n",
            "[youtube] DpBIunFLkGM: Downloading webpage\n",
            "\u001b[0;33mWARNING:\u001b[0m Requested formats are incompatible for merge and will be merged into mkv.\n",
            "[debug] Invoking downloader on 'https://r5---sn-q4fl6ns7.googlevideo.com/videoplayback?expire=1629488878&ei=jrIfYdPWOcaOkgb3xKyIBw&ip=34.125.204.195&id=o-AADWOD5gGbfUPqXQJ6gpcidKQzHQ1w7xA1WGk2ba41ZG&itag=248&aitags=133%2C134%2C135%2C136%2C137%2C160%2C242%2C243%2C244%2C247%2C248%2C278%2C394%2C395%2C396%2C397%2C398%2C399&source=youtube&requiressl=yes&mh=M5&mm=31%2C26&mn=sn-q4fl6ns7%2Csn-5goeen7d&ms=au%2Conr&mv=m&mvi=5&pl=22&initcwndbps=3725000&vprv=1&mime=video%2Fwebm&ns=XkRKgUCWgFyODMkoKsRNX1gG&gir=yes&clen=60256513&dur=450.616&lmt=1618221116118873&mt=1629467092&fvip=5&keepalive=yes&fexp=24001373%2C24007246&c=WEB&txp=5535432&n=uoRGXc75-5qgLsNPs&sparams=expire%2Cei%2Cip%2Cid%2Caitags%2Csource%2Crequiressl%2Cvprv%2Cmime%2Cns%2Cgir%2Cclen%2Cdur%2Clmt&sig=AOq0QJ8wRQIgNRZWGs5qEFhy1lnWDjwZEa-PnXmb59zg6fkgnPK8QZwCIQCwuOVXI0bjV9mjny8TYwVpDbgQjd75w8DPRvjIL36nYQ%3D%3D&lsparams=mh%2Cmm%2Cmn%2Cms%2Cmv%2Cmvi%2Cpl%2Cinitcwndbps&lsig=AG3C_xAwRQIhAK1BdVxrndaALQeeWbRt6skTK24bMnVy7G_zhKI0c6_zAiAX2YVWmuxYUgUX5ljoXAvo6QilusghAVP8nfwYyq3tXw%3D%3D'\n",
            "[download] Destination: INDIAN ITOM SEASON 2 _ Angry Prash.f248.webm\n",
            "\u001b[K[download] 100% of 57.47MiB in 00:03\n",
            "[debug] Invoking downloader on 'https://r5---sn-q4fl6ns7.googlevideo.com/videoplayback?expire=1629488878&ei=jrIfYdPWOcaOkgb3xKyIBw&ip=34.125.204.195&id=o-AADWOD5gGbfUPqXQJ6gpcidKQzHQ1w7xA1WGk2ba41ZG&itag=140&source=youtube&requiressl=yes&mh=M5&mm=31%2C26&mn=sn-q4fl6ns7%2Csn-5goeen7d&ms=au%2Conr&mv=m&mvi=5&pl=22&initcwndbps=3725000&vprv=1&mime=audio%2Fmp4&ns=XkRKgUCWgFyODMkoKsRNX1gG&gir=yes&clen=7294453&dur=450.676&lmt=1618220814296605&mt=1629467092&fvip=5&keepalive=yes&fexp=24001373%2C24007246&c=WEB&txp=5531432&n=uoRGXc75-5qgLsNPs&sparams=expire%2Cei%2Cip%2Cid%2Citag%2Csource%2Crequiressl%2Cvprv%2Cmime%2Cns%2Cgir%2Cclen%2Cdur%2Clmt&sig=AOq0QJ8wRQIhAOi5fpQrBMkxwqD8idT3eSy0vdS_JVjWN4-i2kUCawT0AiA2eKPdhlF2lM4zWSAVj1koQ05HA1utoO6_nBzRnTZ9qg%3D%3D&lsparams=mh%2Cmm%2Cmn%2Cms%2Cmv%2Cmvi%2Cpl%2Cinitcwndbps&lsig=AG3C_xAwRQIhAK1BdVxrndaALQeeWbRt6skTK24bMnVy7G_zhKI0c6_zAiAX2YVWmuxYUgUX5ljoXAvo6QilusghAVP8nfwYyq3tXw%3D%3D'\n",
            "[download] Destination: INDIAN ITOM SEASON 2 _ Angry Prash.f140.m4a\n",
            "\u001b[K[download] 100% of 6.96MiB in 00:00\n",
            "[ffmpeg] Merging formats into \"INDIAN ITOM SEASON 2 _ Angry Prash.mkv\"\n",
            "[debug] ffmpeg command line: ffmpeg -y -loglevel repeat+info -i 'file:INDIAN ITOM SEASON 2 _ Angry Prash.f248.webm' -i 'file:INDIAN ITOM SEASON 2 _ Angry Prash.f140.m4a' -c copy -map 0:v:0 -map 1:a:0 'file:INDIAN ITOM SEASON 2 _ Angry Prash.temp.mkv'\n",
            "Deleting original file INDIAN ITOM SEASON 2 _ Angry Prash.f248.webm (pass -k to keep)\n",
            "Deleting original file INDIAN ITOM SEASON 2 _ Angry Prash.f140.m4a (pass -k to keep)\n",
            "[download] Downloading video 7 of 133\n",
            "[youtube] pI9oRmxVU3s: Downloading webpage\n",
            "[debug] Invoking downloader on 'https://r3---sn-q4flrnez.googlevideo.com/videoplayback?expire=1629488884&ei=lLIfYYCXKs-WkgbUrZzwDg&ip=34.125.204.195&id=o-ALZLXlp-mtsA0C1B6Vzpgq_f9deQLs2gKV2phDurVwAP&itag=313&aitags=133%2C134%2C135%2C136%2C137%2C160%2C242%2C243%2C244%2C247%2C248%2C271%2C278%2C313%2C394%2C395%2C396%2C397%2C398%2C399%2C400%2C401&source=youtube&requiressl=yes&mh=fm&mm=31%2C26&mn=sn-q4flrnez%2Csn-5goeen7d&ms=au%2Conr&mv=m&mvi=3&pl=22&initcwndbps=3725000&vprv=1&mime=video%2Fwebm&ns=xGnfREvMwZXUbGuGW9Nc-HkG&gir=yes&clen=261692041&dur=191.880&lmt=1611839277363019&mt=1629467092&fvip=3&keepalive=yes&fexp=24001373%2C24007246&c=WEB&txp=5532432&n=xYxGBpEC5jlAnIcrt&sparams=expire%2Cei%2Cip%2Cid%2Caitags%2Csource%2Crequiressl%2Cvprv%2Cmime%2Cns%2Cgir%2Cclen%2Cdur%2Clmt&sig=AOq0QJ8wRgIhAONEuPfVeQtID--0IVBCsyv6Y5daOv5gcZ_MXVm71JtbAiEA270Yc2WNYfwAGfRZAOCGEZv41d4NpdAXfS0kgGKyo-o%3D&lsparams=mh%2Cmm%2Cmn%2Cms%2Cmv%2Cmvi%2Cpl%2Cinitcwndbps&lsig=AG3C_xAwRQIgGMhagva7oJm50T88ch1k5TwTXl7ZuDI92THjP9eelokCIQCh1d-a7Y3OQ0_bso8efWtDHWv6ftC4uN97MltOwD0tBw%3D%3D'\n",
            "[download] Destination: SHOOTING STAR _ Angry Prash (Official Music Video).f313.webm\n",
            "\u001b[K[download] 100% of 249.57MiB in 00:11\n",
            "[debug] Invoking downloader on 'https://r3---sn-q4flrnez.googlevideo.com/videoplayback?expire=1629488884&ei=lLIfYYCXKs-WkgbUrZzwDg&ip=34.125.204.195&id=o-ALZLXlp-mtsA0C1B6Vzpgq_f9deQLs2gKV2phDurVwAP&itag=251&source=youtube&requiressl=yes&mh=fm&mm=31%2C26&mn=sn-q4flrnez%2Csn-5goeen7d&ms=au%2Conr&mv=m&mvi=3&pl=22&initcwndbps=3725000&vprv=1&mime=audio%2Fwebm&ns=xGnfREvMwZXUbGuGW9Nc-HkG&gir=yes&clen=3658872&dur=191.901&lmt=1611744470435269&mt=1629467092&fvip=3&keepalive=yes&fexp=24001373%2C24007246&c=WEB&txp=5511222&n=xYxGBpEC5jlAnIcrt&sparams=expire%2Cei%2Cip%2Cid%2Citag%2Csource%2Crequiressl%2Cvprv%2Cmime%2Cns%2Cgir%2Cclen%2Cdur%2Clmt&sig=AOq0QJ8wRQIhAM_bbDTx7l8fXlFxCctuDRr-q_9FtulpJP93oXhvqlPLAiA2LBiDD0sJK_YHMR6p1j1YsfivajwsTnxT9oaBcDlglQ%3D%3D&lsparams=mh%2Cmm%2Cmn%2Cms%2Cmv%2Cmvi%2Cpl%2Cinitcwndbps&lsig=AG3C_xAwRQIgGMhagva7oJm50T88ch1k5TwTXl7ZuDI92THjP9eelokCIQCh1d-a7Y3OQ0_bso8efWtDHWv6ftC4uN97MltOwD0tBw%3D%3D'\n",
            "[download] Destination: SHOOTING STAR _ Angry Prash (Official Music Video).f251.webm\n",
            "\u001b[K[download] 100% of 3.49MiB in 00:00\n",
            "[ffmpeg] Merging formats into \"SHOOTING STAR _ Angry Prash (Official Music Video).webm\"\n",
            "[debug] ffmpeg command line: ffmpeg -y -loglevel repeat+info -i 'file:SHOOTING STAR _ Angry Prash (Official Music Video).f313.webm' -i 'file:SHOOTING STAR _ Angry Prash (Official Music Video).f251.webm' -c copy -map 0:v:0 -map 1:a:0 'file:SHOOTING STAR _ Angry Prash (Official Music Video).temp.webm'\n",
            "Deleting original file SHOOTING STAR _ Angry Prash (Official Music Video).f313.webm (pass -k to keep)\n",
            "Deleting original file SHOOTING STAR _ Angry Prash (Official Music Video).f251.webm (pass -k to keep)\n",
            "[download] Downloading video 8 of 133\n",
            "[youtube] AtarX-NoCTE: Downloading webpage\n",
            "\u001b[0;33mWARNING:\u001b[0m Requested formats are incompatible for merge and will be merged into mkv.\n",
            "[debug] Invoking downloader on 'https://r2---sn-q4flrner.googlevideo.com/videoplayback?expire=1629488900&ei=pLIfYbzcHZirkwaRqbvwCg&ip=34.125.204.195&id=o-AGKN-1JcgEhSa8X0QzwRV7yqXu1q_Vx4mRzsnGVMeWZ7&itag=248&aitags=133%2C134%2C135%2C136%2C137%2C160%2C242%2C243%2C244%2C247%2C248%2C278%2C394%2C395%2C396%2C397%2C398%2C399&source=youtube&requiressl=yes&mh=KQ&mm=31%2C26&mn=sn-q4flrner%2Csn-5goeen7y&ms=au%2Conr&mv=m&mvi=2&pl=22&initcwndbps=3725000&vprv=1&mime=video%2Fwebm&ns=eFyBpUN7KkDOyixrC9E1t9wG&gir=yes&clen=36271428&dur=411.478&lmt=1611713854654265&mt=1629467092&fvip=2&keepalive=yes&fexp=24001373%2C24007246&c=WEB&txp=5535434&n=cS3Ks8QCzs_ff5V4l&sparams=expire%2Cei%2Cip%2Cid%2Caitags%2Csource%2Crequiressl%2Cvprv%2Cmime%2Cns%2Cgir%2Cclen%2Cdur%2Clmt&sig=AOq0QJ8wRQIhANYUy0Ib8NsRA4Vrru3gbU_q03IAXGlYtm0EVi1E2KnMAiAHp_JdKNDLOU55SDy1zOOobIgEYf7Jy2FuPjgyL_2byA%3D%3D&lsparams=mh%2Cmm%2Cmn%2Cms%2Cmv%2Cmvi%2Cpl%2Cinitcwndbps&lsig=AG3C_xAwRQIhAJDlELzt4uBIKq-RKi_qmODe4X7rABDxLr0WcuPcWn7tAiBKRJxB4NsY7B3Vvut6bkFbZ5YylQMNn_u3QGNVDPsIsw%3D%3D'\n",
            "[download] Destination: News Media Ka Panchanama _ Angry Prash.f248.webm\n",
            "\u001b[K[download] 100% of 34.59MiB in 00:02\n",
            "[debug] Invoking downloader on 'https://r2---sn-q4flrner.googlevideo.com/videoplayback?expire=1629488900&ei=pLIfYbzcHZirkwaRqbvwCg&ip=34.125.204.195&id=o-AGKN-1JcgEhSa8X0QzwRV7yqXu1q_Vx4mRzsnGVMeWZ7&itag=140&source=youtube&requiressl=yes&mh=KQ&mm=31%2C26&mn=sn-q4flrner%2Csn-5goeen7y&ms=au%2Conr&mv=m&mvi=2&pl=22&initcwndbps=3725000&vprv=1&mime=audio%2Fmp4&ns=eFyBpUN7KkDOyixrC9E1t9wG&gir=yes&clen=6661370&dur=411.527&lmt=1611544524116407&mt=1629467092&fvip=2&keepalive=yes&fexp=24001373%2C24007246&c=WEB&txp=5532434&n=cS3Ks8QCzs_ff5V4l&sparams=expire%2Cei%2Cip%2Cid%2Citag%2Csource%2Crequiressl%2Cvprv%2Cmime%2Cns%2Cgir%2Cclen%2Cdur%2Clmt&sig=AOq0QJ8wRQIgTynFWJWeNTJjJZCKeojXnGg4j2Wf05eQywOPy6Ir_uACIQCbCGTVuPedAfKAP1as4scGld10ynSJGi4EOLWgmT7pMA%3D%3D&lsparams=mh%2Cmm%2Cmn%2Cms%2Cmv%2Cmvi%2Cpl%2Cinitcwndbps&lsig=AG3C_xAwRQIhAJDlELzt4uBIKq-RKi_qmODe4X7rABDxLr0WcuPcWn7tAiBKRJxB4NsY7B3Vvut6bkFbZ5YylQMNn_u3QGNVDPsIsw%3D%3D'\n",
            "[download] Destination: News Media Ka Panchanama _ Angry Prash.f140.m4a\n",
            "\u001b[K[download] 100% of 6.35MiB in 00:00\n",
            "[ffmpeg] Merging formats into \"News Media Ka Panchanama _ Angry Prash.mkv\"\n",
            "[debug] ffmpeg command line: ffmpeg -y -loglevel repeat+info -i 'file:News Media Ka Panchanama _ Angry Prash.f248.webm' -i 'file:News Media Ka Panchanama _ Angry Prash.f140.m4a' -c copy -map 0:v:0 -map 1:a:0 'file:News Media Ka Panchanama _ Angry Prash.temp.mkv'\n",
            "Deleting original file News Media Ka Panchanama _ Angry Prash.f248.webm (pass -k to keep)\n",
            "Deleting original file News Media Ka Panchanama _ Angry Prash.f140.m4a (pass -k to keep)\n",
            "[download] Downloading video 9 of 133\n",
            "[youtube] IelZ5QkMMHI: Downloading webpage\n",
            "\u001b[0;33mWARNING:\u001b[0m Requested formats are incompatible for merge and will be merged into mkv.\n",
            "[debug] Invoking downloader on 'https://r3---sn-q4fl6nlz.googlevideo.com/videoplayback?expire=1629488905&ei=qLIfYZrqO9mgkgbV9ws&ip=34.125.204.195&id=o-AHrlCgGvzWVyjZu4E9o48JCWyB9KkySyIzV1u8uWpeNC&itag=248&aitags=133%2C134%2C135%2C136%2C137%2C160%2C242%2C243%2C244%2C247%2C248%2C278%2C394%2C395%2C396%2C397%2C398%2C399&source=youtube&requiressl=yes&mh=Qp&mm=31%2C26&mn=sn-q4fl6nlz%2Csn-5go7yner&ms=au%2Conr&mv=m&mvi=3&pl=22&initcwndbps=3725000&vprv=1&mime=video%2Fwebm&ns=I9eySgIdRUBZAf4LULLIsWwG&gir=yes&clen=54751137&dur=337.637&lmt=1609621299864029&mt=1629467092&fvip=3&keepalive=yes&fexp=24001373%2C24007246&c=WEB&txp=5535434&n=R1tqeC2i7A-vSdYe9&sparams=expire%2Cei%2Cip%2Cid%2Caitags%2Csource%2Crequiressl%2Cvprv%2Cmime%2Cns%2Cgir%2Cclen%2Cdur%2Clmt&sig=AOq0QJ8wRQIgdEwhUa0SlnR5QykfwjdBiDhPuZWCP5oiv7MqZ8Ph2PcCIQCirO95Hs81Z9kmNt9Ga9G92aDONY4i8D-__tVKX8a_8A%3D%3D&lsparams=mh%2Cmm%2Cmn%2Cms%2Cmv%2Cmvi%2Cpl%2Cinitcwndbps&lsig=AG3C_xAwRQIgbchiLL4A0Na7fw4miFzoMInrr5OHYPBHnrZzo8a-Y4cCIQDv-lsqtsFzpusI_Sp52Myl3YF6SCN5JmMdUIprKnKsHA%3D%3D'\n",
            "[download] Destination: If YouTube Was Indian Government Office _ Angry Prash.f248.webm\n",
            "\u001b[K[download] 100% of 52.21MiB in 00:04\n",
            "[debug] Invoking downloader on 'https://r3---sn-q4fl6nlz.googlevideo.com/videoplayback?expire=1629488905&ei=qLIfYZrqO9mgkgbV9ws&ip=34.125.204.195&id=o-AHrlCgGvzWVyjZu4E9o48JCWyB9KkySyIzV1u8uWpeNC&itag=140&source=youtube&requiressl=yes&mh=Qp&mm=31%2C26&mn=sn-q4fl6nlz%2Csn-5go7yner&ms=au%2Conr&mv=m&mvi=3&pl=22&initcwndbps=3725000&vprv=1&mime=audio%2Fmp4&ns=I9eySgIdRUBZAf4LULLIsWwG&gir=yes&clen=5465874&dur=337.687&lmt=1609585307017922&mt=1629467092&fvip=3&keepalive=yes&fexp=24001373%2C24007246&c=WEB&txp=5532434&n=R1tqeC2i7A-vSdYe9&sparams=expire%2Cei%2Cip%2Cid%2Citag%2Csource%2Crequiressl%2Cvprv%2Cmime%2Cns%2Cgir%2Cclen%2Cdur%2Clmt&sig=AOq0QJ8wRQIgfj-PwcirqXdkl1JLA2Qi5FMgH-1GlUmmfWjYj6-v540CIQDNGv7IIgrHLJG6AVKb9PtiCtQNC3YldrJGN1nBrfEAOA%3D%3D&lsparams=mh%2Cmm%2Cmn%2Cms%2Cmv%2Cmvi%2Cpl%2Cinitcwndbps&lsig=AG3C_xAwRQIgbchiLL4A0Na7fw4miFzoMInrr5OHYPBHnrZzo8a-Y4cCIQDv-lsqtsFzpusI_Sp52Myl3YF6SCN5JmMdUIprKnKsHA%3D%3D'\n",
            "[download] Destination: If YouTube Was Indian Government Office _ Angry Prash.f140.m4a\n",
            "\u001b[K[download] 100% of 5.21MiB in 00:00\n",
            "[ffmpeg] Merging formats into \"If YouTube Was Indian Government Office _ Angry Prash.mkv\"\n",
            "[debug] ffmpeg command line: ffmpeg -y -loglevel repeat+info -i 'file:If YouTube Was Indian Government Office _ Angry Prash.f248.webm' -i 'file:If YouTube Was Indian Government Office _ Angry Prash.f140.m4a' -c copy -map 0:v:0 -map 1:a:0 'file:If YouTube Was Indian Government Office _ Angry Prash.temp.mkv'\n",
            "Deleting original file If YouTube Was Indian Government Office _ Angry Prash.f248.webm (pass -k to keep)\n",
            "Deleting original file If YouTube Was Indian Government Office _ Angry Prash.f140.m4a (pass -k to keep)\n",
            "[download] Downloading video 10 of 133\n",
            "[youtube] Ak8ECUdEzAg: Downloading webpage\n",
            "\u001b[0;33mWARNING:\u001b[0m Requested formats are incompatible for merge and will be merged into mkv.\n",
            "[debug] Invoking downloader on 'https://r3---sn-q4fl6nlz.googlevideo.com/videoplayback?expire=1629488911&ei=r7IfYZS-MY-mkgbY7K_oBw&ip=34.125.204.195&id=o-AB76ZikRg1mDeAYtzHyOIX4DjQPmV3NoSVHgbaIgrkpP&itag=248&aitags=133%2C134%2C135%2C136%2C137%2C160%2C242%2C243%2C244%2C247%2C248%2C278%2C394%2C395%2C396%2C397%2C398%2C399&source=youtube&requiressl=yes&mh=rm&mm=31%2C26&mn=sn-q4fl6nlz%2Csn-5go7yner&ms=au%2Conr&mv=m&mvi=3&pl=22&initcwndbps=3725000&vprv=1&mime=video%2Fwebm&ns=JQHgSveKiBnRvBrkzYHEfq8G&gir=yes&clen=38466992&dur=246.580&lmt=1607948886105302&mt=1629467092&fvip=3&keepalive=yes&fexp=24001373%2C24007246&c=WEB&txp=5535434&n=A9jqrbJRgyXrhz5YE&sparams=expire%2Cei%2Cip%2Cid%2Caitags%2Csource%2Crequiressl%2Cvprv%2Cmime%2Cns%2Cgir%2Cclen%2Cdur%2Clmt&sig=AOq0QJ8wRQIgNV9E04jj8A5jLKb8Af7_jRlB-O2gJq7--L1HjR7ZhkICIQC8FqUhtrOOBlzpfylxA5cpMo-YnaOWZIcSvhvUcjaEdg%3D%3D&lsparams=mh%2Cmm%2Cmn%2Cms%2Cmv%2Cmvi%2Cpl%2Cinitcwndbps&lsig=AG3C_xAwRQIhAJk-7__yWJWjSHQMJ8cfkDoiZydxMT9hNy04fwrq1R56AiAONgpcI_a5HWyvLdaVLMnmaj3LvbLXiX37Zjz3ZWv2tw%3D%3D'\n",
            "[download] Destination: I HATE THESE LIFE HACKS _ Angry Prash.f248.webm\n",
            "\u001b[K[download] 100% of 36.68MiB in 00:01\n",
            "[debug] Invoking downloader on 'https://r3---sn-q4fl6nlz.googlevideo.com/videoplayback?expire=1629488911&ei=r7IfYZS-MY-mkgbY7K_oBw&ip=34.125.204.195&id=o-AB76ZikRg1mDeAYtzHyOIX4DjQPmV3NoSVHgbaIgrkpP&itag=140&source=youtube&requiressl=yes&mh=rm&mm=31%2C26&mn=sn-q4fl6nlz%2Csn-5go7yner&ms=au%2Conr&mv=m&mvi=3&pl=22&initcwndbps=3725000&vprv=1&mime=audio%2Fmp4&ns=JQHgSveKiBnRvBrkzYHEfq8G&gir=yes&clen=3992329&dur=246.642&lmt=1607861103559073&mt=1629467092&fvip=3&keepalive=yes&fexp=24001373%2C24007246&c=WEB&txp=5532434&n=A9jqrbJRgyXrhz5YE&sparams=expire%2Cei%2Cip%2Cid%2Citag%2Csource%2Crequiressl%2Cvprv%2Cmime%2Cns%2Cgir%2Cclen%2Cdur%2Clmt&sig=AOq0QJ8wRAIgbTO76U3d1m0e5FbZLbXQvPFSDON0Svf21ydmQeux7x0CIAerbI9xpTVL2ESBThhg6L0f1TSpvoJfX94dxbIZ7cBd&lsparams=mh%2Cmm%2Cmn%2Cms%2Cmv%2Cmvi%2Cpl%2Cinitcwndbps&lsig=AG3C_xAwRQIhAJk-7__yWJWjSHQMJ8cfkDoiZydxMT9hNy04fwrq1R56AiAONgpcI_a5HWyvLdaVLMnmaj3LvbLXiX37Zjz3ZWv2tw%3D%3D'\n",
            "[download] Destination: I HATE THESE LIFE HACKS _ Angry Prash.f140.m4a\n",
            "\u001b[K[download] 100% of 3.81MiB in 00:00\n",
            "[ffmpeg] Merging formats into \"I HATE THESE LIFE HACKS _ Angry Prash.mkv\"\n",
            "[debug] ffmpeg command line: ffmpeg -y -loglevel repeat+info -i 'file:I HATE THESE LIFE HACKS _ Angry Prash.f248.webm' -i 'file:I HATE THESE LIFE HACKS _ Angry Prash.f140.m4a' -c copy -map 0:v:0 -map 1:a:0 'file:I HATE THESE LIFE HACKS _ Angry Prash.temp.mkv'\n",
            "Deleting original file I HATE THESE LIFE HACKS _ Angry Prash.f248.webm (pass -k to keep)\n",
            "Deleting original file I HATE THESE LIFE HACKS _ Angry Prash.f140.m4a (pass -k to keep)\n",
            "[download] Downloading video 11 of 133\n",
            "[youtube] wIukgTUv4gQ: Downloading webpage\n",
            "\u001b[0;33mWARNING:\u001b[0m Requested formats are incompatible for merge and will be merged into mkv.\n",
            "[debug] Invoking downloader on 'https://r1---sn-q4flrnld.googlevideo.com/videoplayback?expire=1629488915&ei=s7IfYYO-NJvDkgabyLiwCg&ip=34.125.204.195&id=o-AM9rBzjWMiBUDW6cZ8IKvIOUeVcERPVicw53dYDJAayi&itag=248&aitags=133%2C134%2C135%2C136%2C137%2C160%2C242%2C243%2C244%2C247%2C248%2C278%2C394%2C395%2C396%2C397%2C398%2C399&source=youtube&requiressl=yes&mh=1N&mm=31%2C26&mn=sn-q4flrnld%2Csn-5goeen7y&ms=au%2Conr&mv=m&mvi=1&pl=22&initcwndbps=3725000&vprv=1&mime=video%2Fwebm&ns=h5R0auPk5fT5UnUc1yHNyAkG&gir=yes&clen=47460080&dur=368.234&lmt=1607170242002605&mt=1629467092&fvip=1&keepalive=yes&fexp=24001373%2C24007246&c=WEB&txp=5535432&n=JsBqHISZn1txLt_u9&sparams=expire%2Cei%2Cip%2Cid%2Caitags%2Csource%2Crequiressl%2Cvprv%2Cmime%2Cns%2Cgir%2Cclen%2Cdur%2Clmt&sig=AOq0QJ8wRgIhANtIxyxw2tT6isrLEHiPeaXEeY3kxr036hyIHRVBMZcWAiEAiMYs3dlJ4uNAZO1fbmqz4QNa9s8mUTmKBki7x3gHyO0%3D&lsparams=mh%2Cmm%2Cmn%2Cms%2Cmv%2Cmvi%2Cpl%2Cinitcwndbps&lsig=AG3C_xAwRgIhALyU_peNR31QOkRutyI5EatGMua7yL2g_3Hykw13aKomAiEAsnw890W42FxNU3MEGUiyg8SE4io4nxF65DfiAugG6AY%3D'\n",
            "[download] Destination: NIGHTMARE _ EP 04 - SIRKARJI KA THE END _ Angry Prash.f248.webm\n",
            "\u001b[K[download]  87.1% of 45.26MiB at 998.87KiB/s ETA 00:05\n",
            "ERROR: Interrupted by user\n"
          ],
          "name": "stdout"
        }
      ]
    },
    {
      "cell_type": "markdown",
      "metadata": {
        "id": "Dx_jPgghqCER"
      },
      "source": [
        "# **Desi**"
      ]
    },
    {
      "cell_type": "code",
      "metadata": {
        "id": "7CkhW6fNqJH6"
      },
      "source": [
        "!npm i torrent -g"
      ],
      "execution_count": null,
      "outputs": []
    },
    {
      "cell_type": "code",
      "metadata": {
        "id": "2L95wlk7qaKQ"
      },
      "source": [
        "!torrent \"Torren and Magnet\""
      ],
      "execution_count": null,
      "outputs": []
    }
  ]
}